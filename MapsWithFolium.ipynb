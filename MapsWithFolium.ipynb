{
 "cells": [
  {
   "cell_type": "markdown",
   "metadata": {},
   "source": [
    "LOAD DATA"
   ]
  },
  {
   "cell_type": "code",
   "execution_count": 1,
   "metadata": {},
   "outputs": [],
   "source": [
    "import pandas as pd"
   ]
  },
  {
   "cell_type": "code",
   "execution_count": 2,
   "metadata": {},
   "outputs": [
    {
     "data": {
      "text/html": [
       "<div>\n",
       "<style scoped>\n",
       "    .dataframe tbody tr th:only-of-type {\n",
       "        vertical-align: middle;\n",
       "    }\n",
       "\n",
       "    .dataframe tbody tr th {\n",
       "        vertical-align: top;\n",
       "    }\n",
       "\n",
       "    .dataframe thead th {\n",
       "        text-align: right;\n",
       "    }\n",
       "</style>\n",
       "<table border=\"1\" class=\"dataframe\">\n",
       "  <thead>\n",
       "    <tr style=\"text-align: right;\">\n",
       "      <th></th>\n",
       "      <th>Lugar</th>\n",
       "      <th>Latitud</th>\n",
       "      <th>Longitud</th>\n",
       "      <th>Motivo</th>\n",
       "      <th>Label motivo</th>\n",
       "      <th>year</th>\n",
       "    </tr>\n",
       "  </thead>\n",
       "  <tbody>\n",
       "    <tr>\n",
       "      <th>0</th>\n",
       "      <td>Barnstaple</td>\n",
       "      <td>51.0800</td>\n",
       "      <td>-4.0600</td>\n",
       "      <td>Vacaciones</td>\n",
       "      <td>Turism 1999</td>\n",
       "      <td>1999</td>\n",
       "    </tr>\n",
       "    <tr>\n",
       "      <th>1</th>\n",
       "      <td>Canarias</td>\n",
       "      <td>28.4400</td>\n",
       "      <td>-16.3100</td>\n",
       "      <td>Vacaciones</td>\n",
       "      <td>Sport Tournament 2001</td>\n",
       "      <td>2001</td>\n",
       "    </tr>\n",
       "    <tr>\n",
       "      <th>2</th>\n",
       "      <td>Ennish</td>\n",
       "      <td>52.8477</td>\n",
       "      <td>-8.9895</td>\n",
       "      <td>Vacaciones</td>\n",
       "      <td>Turism 2006</td>\n",
       "      <td>2006</td>\n",
       "    </tr>\n",
       "    <tr>\n",
       "      <th>3</th>\n",
       "      <td>Berango</td>\n",
       "      <td>43.3700</td>\n",
       "      <td>-2.9900</td>\n",
       "      <td>Hogar</td>\n",
       "      <td>Lived in 2007</td>\n",
       "      <td>2007</td>\n",
       "    </tr>\n",
       "    <tr>\n",
       "      <th>4</th>\n",
       "      <td>Malaga</td>\n",
       "      <td>36.7210</td>\n",
       "      <td>-4.4209</td>\n",
       "      <td>Trabajo</td>\n",
       "      <td>Spanish Biochemistry meeting SEBBM 2007</td>\n",
       "      <td>2007</td>\n",
       "    </tr>\n",
       "  </tbody>\n",
       "</table>\n",
       "</div>"
      ],
      "text/plain": [
       "        Lugar  Latitud  Longitud      Motivo  \\\n",
       "0  Barnstaple  51.0800   -4.0600  Vacaciones   \n",
       "1    Canarias  28.4400  -16.3100  Vacaciones   \n",
       "2      Ennish  52.8477   -8.9895  Vacaciones   \n",
       "3     Berango  43.3700   -2.9900       Hogar   \n",
       "4      Malaga  36.7210   -4.4209     Trabajo   \n",
       "\n",
       "                              Label motivo  year  \n",
       "0                              Turism 1999  1999  \n",
       "1                    Sport Tournament 2001  2001  \n",
       "2                              Turism 2006  2006  \n",
       "3                            Lived in 2007  2007  \n",
       "4  Spanish Biochemistry meeting SEBBM 2007  2007  "
      ]
     },
     "execution_count": 2,
     "metadata": {},
     "output_type": "execute_result"
    }
   ],
   "source": [
    "info_df = pd.read_excel('placeinfo.xlsx')\n",
    "info_df.head()"
   ]
  },
  {
   "cell_type": "markdown",
   "metadata": {},
   "source": [
    "CREATE MAP"
   ]
  },
  {
   "cell_type": "code",
   "execution_count": 3,
   "metadata": {},
   "outputs": [],
   "source": [
    "import folium"
   ]
  },
  {
   "cell_type": "code",
   "execution_count": 4,
   "metadata": {},
   "outputs": [],
   "source": [
    "map = folium.Map(location= [40,-40], zoom_start = 3, tiles = 'Stamen Watercolor' )"
   ]
  },
  {
   "cell_type": "code",
   "execution_count": 5,
   "metadata": {},
   "outputs": [],
   "source": [
    "fg = folium.FeatureGroup(name = 'My Map')\n",
    "#map.add_child(folium.Marker(location = [51,-4], popup = 'Barstaple', icon = folium.Icon(color = 'green')))\n",
    "#fg.add_child(folium.Marker(location = [51,-4], popup = 'Barstaple', icon = folium.Icon(color = 'green')))"
   ]
  },
  {
   "cell_type": "code",
   "execution_count": 6,
   "metadata": {},
   "outputs": [],
   "source": [
    "fg_l = folium.FeatureGroup(name = 'Lived in')\n",
    "fg_t = folium.FeatureGroup(name = 'Turism Trip')\n",
    "fg_w = folium.FeatureGroup(name = 'Work Travel')"
   ]
  },
  {
   "cell_type": "code",
   "execution_count": 7,
   "metadata": {},
   "outputs": [],
   "source": [
    "#Variables\n",
    "lat = list(info_df['Latitud'].astype(float))\n",
    "long = list(info_df['Longitud'].astype(float))\n",
    "year = list(info_df['year'].astype(int))\n",
    "location = list(info_df['Lugar'])\n",
    "label = list(info_df['Label motivo'])\n",
    "motiv = list(info_df['Motivo'])\n",
    "\n",
    "def iconElection (mtt):\n",
    "    if mtt == 'Hogar':\n",
    "        return 'red'\n",
    "    elif mtt == 'Trabajo':\n",
    "        return 'blue'\n",
    "    elif mtt == 'Vacaciones':\n",
    "        return 'purple'\n",
    "    else:\n",
    "        return 'black' #failed to read correctly"
   ]
  },
  {
   "cell_type": "code",
   "execution_count": 8,
   "metadata": {},
   "outputs": [],
   "source": [
    "for lt, ln, lc, lb, mt in zip(lat, long, location, label, motiv):\n",
    "    if mt == 'Hogar':\n",
    "        fg_l.add_child(folium.CircleMarker(location = [lt,ln],\n",
    "                                     radius = 6, \n",
    "                                     popup = lc + ' ' + lb, \n",
    "                                     fill_color = iconElection (mt),\n",
    "                                     color = iconElection (mt),\n",
    "                                     fill = True,\n",
    "                                     fill_opacity = 0.85))\n",
    "    elif mt == 'Trabajo':\n",
    "        fg_w.add_child(folium.CircleMarker(location = [lt,ln], \n",
    "                                     radius = 4, \n",
    "                                     popup = lc + ' ' + lb, \n",
    "                                     fill_color = iconElection (mt),\n",
    "                                     color = iconElection (mt),\n",
    "                                     fill = True,\n",
    "                                     fill_opacity = 0.85))\n",
    "    else: # 'Vacaciones'\n",
    "        fg_t.add_child(folium.CircleMarker(location = [lt,ln], \n",
    "                                     radius = 4, \n",
    "                                     popup = lc + ' ' + lb, \n",
    "                                     fill_color = iconElection (mt),\n",
    "                                     color = iconElection (mt),\n",
    "                                     fill = True,\n",
    "                                     fill_opacity = 0.85))"
   ]
  },
  {
   "cell_type": "markdown",
   "metadata": {},
   "source": [
    "for lt, ln, lc, lb, mt in zip(lat, long, location, label, motiv):\n",
    "    fg.add_child(folium.CircleMarker(location = [lt,ln], \n",
    "                                     radius = 4, \n",
    "                                     popup = lc + ' ' + lb, \n",
    "                                     fill_color = iconElection (mt),\n",
    "                                     color = iconElection (mt),\n",
    "                                     fill = True,\n",
    "                                     fill_opacity = 0.85))"
   ]
  },
  {
   "cell_type": "code",
   "execution_count": 9,
   "metadata": {},
   "outputs": [],
   "source": [
    "#map.add_child(fg);"
   ]
  },
  {
   "cell_type": "code",
   "execution_count": 10,
   "metadata": {},
   "outputs": [],
   "source": [
    "map.add_child(fg_l); #lived in\n",
    "map.add_child(fg_w); # work\n",
    "map.add_child(fg_t); #turism"
   ]
  },
  {
   "cell_type": "code",
   "execution_count": 11,
   "metadata": {},
   "outputs": [],
   "source": [
    "map.add_child(folium.LayerControl());"
   ]
  },
  {
   "cell_type": "markdown",
   "metadata": {},
   "source": [
    "SAVE MAP"
   ]
  },
  {
   "cell_type": "code",
   "execution_count": 12,
   "metadata": {},
   "outputs": [],
   "source": [
    "map.save('World visited map.html')"
   ]
  }
 ],
 "metadata": {
  "kernelspec": {
   "display_name": "Python 3",
   "language": "python",
   "name": "python3"
  },
  "language_info": {
   "codemirror_mode": {
    "name": "ipython",
    "version": 3
   },
   "file_extension": ".py",
   "mimetype": "text/x-python",
   "name": "python",
   "nbconvert_exporter": "python",
   "pygments_lexer": "ipython3",
   "version": "3.7.6"
  }
 },
 "nbformat": 4,
 "nbformat_minor": 4
}
